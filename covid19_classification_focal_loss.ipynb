{
  "nbformat": 4,
  "nbformat_minor": 0,
  "metadata": {
    "colab": {
      "name": "Assignment_5b.ipynb",
      "provenance": [],
      "collapsed_sections": [],
      "mount_file_id": "17CtBk5pT7D611zK4D1YXPvq0iyRreHaP",
      "authorship_tag": "ABX9TyOCRFFPvcQ3jTzmMzeXI/Ex",
      "include_colab_link": true
    },
    "kernelspec": {
      "name": "python3",
      "display_name": "Python 3"
    },
    "accelerator": "GPU",
    "widgets": {
      "application/vnd.jupyter.widget-state+json": {
        "62b0acbaf7d54539b38e60fb50a0473b": {
          "model_module": "@jupyter-widgets/controls",
          "model_name": "HBoxModel",
          "state": {
            "_view_name": "HBoxView",
            "_dom_classes": [],
            "_model_name": "HBoxModel",
            "_view_module": "@jupyter-widgets/controls",
            "_model_module_version": "1.5.0",
            "_view_count": null,
            "_view_module_version": "1.5.0",
            "box_style": "",
            "layout": "IPY_MODEL_7da15d7c28ff4988b27cee6b668aa37b",
            "_model_module": "@jupyter-widgets/controls",
            "children": [
              "IPY_MODEL_26207fdb3f4e490dacbfd49aaf2bef1b",
              "IPY_MODEL_6d2d0a73f0764b4abc32699056c98504"
            ]
          }
        },
        "7da15d7c28ff4988b27cee6b668aa37b": {
          "model_module": "@jupyter-widgets/base",
          "model_name": "LayoutModel",
          "state": {
            "_view_name": "LayoutView",
            "grid_template_rows": null,
            "right": null,
            "justify_content": null,
            "_view_module": "@jupyter-widgets/base",
            "overflow": null,
            "_model_module_version": "1.2.0",
            "_view_count": null,
            "flex_flow": null,
            "width": null,
            "min_width": null,
            "border": null,
            "align_items": null,
            "bottom": null,
            "_model_module": "@jupyter-widgets/base",
            "top": null,
            "grid_column": null,
            "overflow_y": null,
            "overflow_x": null,
            "grid_auto_flow": null,
            "grid_area": null,
            "grid_template_columns": null,
            "flex": null,
            "_model_name": "LayoutModel",
            "justify_items": null,
            "grid_row": null,
            "max_height": null,
            "align_content": null,
            "visibility": null,
            "align_self": null,
            "height": null,
            "min_height": null,
            "padding": null,
            "grid_auto_rows": null,
            "grid_gap": null,
            "max_width": null,
            "order": null,
            "_view_module_version": "1.2.0",
            "grid_template_areas": null,
            "object_position": null,
            "object_fit": null,
            "grid_auto_columns": null,
            "margin": null,
            "display": null,
            "left": null
          }
        },
        "26207fdb3f4e490dacbfd49aaf2bef1b": {
          "model_module": "@jupyter-widgets/controls",
          "model_name": "IntProgressModel",
          "state": {
            "_view_name": "ProgressView",
            "style": "IPY_MODEL_4dc322e958ee41dcbc85511cec686f13",
            "_dom_classes": [],
            "description": "100%",
            "_model_name": "IntProgressModel",
            "bar_style": "success",
            "max": 553433881,
            "_view_module": "@jupyter-widgets/controls",
            "_model_module_version": "1.5.0",
            "value": 553433881,
            "_view_count": null,
            "_view_module_version": "1.5.0",
            "orientation": "horizontal",
            "min": 0,
            "description_tooltip": null,
            "_model_module": "@jupyter-widgets/controls",
            "layout": "IPY_MODEL_66d9c2a1098c424380ba6f4db6032d3d"
          }
        },
        "6d2d0a73f0764b4abc32699056c98504": {
          "model_module": "@jupyter-widgets/controls",
          "model_name": "HTMLModel",
          "state": {
            "_view_name": "HTMLView",
            "style": "IPY_MODEL_4948c3e753814d6ca6efbc3f644ee9f7",
            "_dom_classes": [],
            "description": "",
            "_model_name": "HTMLModel",
            "placeholder": "​",
            "_view_module": "@jupyter-widgets/controls",
            "_model_module_version": "1.5.0",
            "value": " 528M/528M [02:54&lt;00:00, 3.17MB/s]",
            "_view_count": null,
            "_view_module_version": "1.5.0",
            "description_tooltip": null,
            "_model_module": "@jupyter-widgets/controls",
            "layout": "IPY_MODEL_cca7d7b4e22847c6af3c0c8f2819f8e4"
          }
        },
        "4dc322e958ee41dcbc85511cec686f13": {
          "model_module": "@jupyter-widgets/controls",
          "model_name": "ProgressStyleModel",
          "state": {
            "_view_name": "StyleView",
            "_model_name": "ProgressStyleModel",
            "description_width": "initial",
            "_view_module": "@jupyter-widgets/base",
            "_model_module_version": "1.5.0",
            "_view_count": null,
            "_view_module_version": "1.2.0",
            "bar_color": null,
            "_model_module": "@jupyter-widgets/controls"
          }
        },
        "66d9c2a1098c424380ba6f4db6032d3d": {
          "model_module": "@jupyter-widgets/base",
          "model_name": "LayoutModel",
          "state": {
            "_view_name": "LayoutView",
            "grid_template_rows": null,
            "right": null,
            "justify_content": null,
            "_view_module": "@jupyter-widgets/base",
            "overflow": null,
            "_model_module_version": "1.2.0",
            "_view_count": null,
            "flex_flow": null,
            "width": null,
            "min_width": null,
            "border": null,
            "align_items": null,
            "bottom": null,
            "_model_module": "@jupyter-widgets/base",
            "top": null,
            "grid_column": null,
            "overflow_y": null,
            "overflow_x": null,
            "grid_auto_flow": null,
            "grid_area": null,
            "grid_template_columns": null,
            "flex": null,
            "_model_name": "LayoutModel",
            "justify_items": null,
            "grid_row": null,
            "max_height": null,
            "align_content": null,
            "visibility": null,
            "align_self": null,
            "height": null,
            "min_height": null,
            "padding": null,
            "grid_auto_rows": null,
            "grid_gap": null,
            "max_width": null,
            "order": null,
            "_view_module_version": "1.2.0",
            "grid_template_areas": null,
            "object_position": null,
            "object_fit": null,
            "grid_auto_columns": null,
            "margin": null,
            "display": null,
            "left": null
          }
        },
        "4948c3e753814d6ca6efbc3f644ee9f7": {
          "model_module": "@jupyter-widgets/controls",
          "model_name": "DescriptionStyleModel",
          "state": {
            "_view_name": "StyleView",
            "_model_name": "DescriptionStyleModel",
            "description_width": "",
            "_view_module": "@jupyter-widgets/base",
            "_model_module_version": "1.5.0",
            "_view_count": null,
            "_view_module_version": "1.2.0",
            "_model_module": "@jupyter-widgets/controls"
          }
        },
        "cca7d7b4e22847c6af3c0c8f2819f8e4": {
          "model_module": "@jupyter-widgets/base",
          "model_name": "LayoutModel",
          "state": {
            "_view_name": "LayoutView",
            "grid_template_rows": null,
            "right": null,
            "justify_content": null,
            "_view_module": "@jupyter-widgets/base",
            "overflow": null,
            "_model_module_version": "1.2.0",
            "_view_count": null,
            "flex_flow": null,
            "width": null,
            "min_width": null,
            "border": null,
            "align_items": null,
            "bottom": null,
            "_model_module": "@jupyter-widgets/base",
            "top": null,
            "grid_column": null,
            "overflow_y": null,
            "overflow_x": null,
            "grid_auto_flow": null,
            "grid_area": null,
            "grid_template_columns": null,
            "flex": null,
            "_model_name": "LayoutModel",
            "justify_items": null,
            "grid_row": null,
            "max_height": null,
            "align_content": null,
            "visibility": null,
            "align_self": null,
            "height": null,
            "min_height": null,
            "padding": null,
            "grid_auto_rows": null,
            "grid_gap": null,
            "max_width": null,
            "order": null,
            "_view_module_version": "1.2.0",
            "grid_template_areas": null,
            "object_position": null,
            "object_fit": null,
            "grid_auto_columns": null,
            "margin": null,
            "display": null,
            "left": null
          }
        },
        "33c30e24597440f6840c04bb4ceea51f": {
          "model_module": "@jupyter-widgets/controls",
          "model_name": "HBoxModel",
          "state": {
            "_view_name": "HBoxView",
            "_dom_classes": [],
            "_model_name": "HBoxModel",
            "_view_module": "@jupyter-widgets/controls",
            "_model_module_version": "1.5.0",
            "_view_count": null,
            "_view_module_version": "1.5.0",
            "box_style": "",
            "layout": "IPY_MODEL_9c576605161b48f2964ec85369e28b86",
            "_model_module": "@jupyter-widgets/controls",
            "children": [
              "IPY_MODEL_3aacbbc89fd5483f888d74976b23b4f8",
              "IPY_MODEL_f15494a4fe544fd0a2cc4c131dd37103"
            ]
          }
        },
        "9c576605161b48f2964ec85369e28b86": {
          "model_module": "@jupyter-widgets/base",
          "model_name": "LayoutModel",
          "state": {
            "_view_name": "LayoutView",
            "grid_template_rows": null,
            "right": null,
            "justify_content": null,
            "_view_module": "@jupyter-widgets/base",
            "overflow": null,
            "_model_module_version": "1.2.0",
            "_view_count": null,
            "flex_flow": null,
            "width": null,
            "min_width": null,
            "border": null,
            "align_items": null,
            "bottom": null,
            "_model_module": "@jupyter-widgets/base",
            "top": null,
            "grid_column": null,
            "overflow_y": null,
            "overflow_x": null,
            "grid_auto_flow": null,
            "grid_area": null,
            "grid_template_columns": null,
            "flex": null,
            "_model_name": "LayoutModel",
            "justify_items": null,
            "grid_row": null,
            "max_height": null,
            "align_content": null,
            "visibility": null,
            "align_self": null,
            "height": null,
            "min_height": null,
            "padding": null,
            "grid_auto_rows": null,
            "grid_gap": null,
            "max_width": null,
            "order": null,
            "_view_module_version": "1.2.0",
            "grid_template_areas": null,
            "object_position": null,
            "object_fit": null,
            "grid_auto_columns": null,
            "margin": null,
            "display": null,
            "left": null
          }
        },
        "3aacbbc89fd5483f888d74976b23b4f8": {
          "model_module": "@jupyter-widgets/controls",
          "model_name": "IntProgressModel",
          "state": {
            "_view_name": "ProgressView",
            "style": "IPY_MODEL_16dbdba7ab0c46f1b851c715c9e9fc79",
            "_dom_classes": [],
            "description": "100%",
            "_model_name": "IntProgressModel",
            "bar_style": "success",
            "max": 46827520,
            "_view_module": "@jupyter-widgets/controls",
            "_model_module_version": "1.5.0",
            "value": 46827520,
            "_view_count": null,
            "_view_module_version": "1.5.0",
            "orientation": "horizontal",
            "min": 0,
            "description_tooltip": null,
            "_model_module": "@jupyter-widgets/controls",
            "layout": "IPY_MODEL_14cc5d88fbcc4f53ac47f710ab32785e"
          }
        },
        "f15494a4fe544fd0a2cc4c131dd37103": {
          "model_module": "@jupyter-widgets/controls",
          "model_name": "HTMLModel",
          "state": {
            "_view_name": "HTMLView",
            "style": "IPY_MODEL_0203446e371e45b1a93fc25dd6790545",
            "_dom_classes": [],
            "description": "",
            "_model_name": "HTMLModel",
            "placeholder": "​",
            "_view_module": "@jupyter-widgets/controls",
            "_model_module_version": "1.5.0",
            "value": " 44.7M/44.7M [00:00&lt;00:00, 59.2MB/s]",
            "_view_count": null,
            "_view_module_version": "1.5.0",
            "description_tooltip": null,
            "_model_module": "@jupyter-widgets/controls",
            "layout": "IPY_MODEL_6f67eb08c0274649b9a4ccdef5311083"
          }
        },
        "16dbdba7ab0c46f1b851c715c9e9fc79": {
          "model_module": "@jupyter-widgets/controls",
          "model_name": "ProgressStyleModel",
          "state": {
            "_view_name": "StyleView",
            "_model_name": "ProgressStyleModel",
            "description_width": "initial",
            "_view_module": "@jupyter-widgets/base",
            "_model_module_version": "1.5.0",
            "_view_count": null,
            "_view_module_version": "1.2.0",
            "bar_color": null,
            "_model_module": "@jupyter-widgets/controls"
          }
        },
        "14cc5d88fbcc4f53ac47f710ab32785e": {
          "model_module": "@jupyter-widgets/base",
          "model_name": "LayoutModel",
          "state": {
            "_view_name": "LayoutView",
            "grid_template_rows": null,
            "right": null,
            "justify_content": null,
            "_view_module": "@jupyter-widgets/base",
            "overflow": null,
            "_model_module_version": "1.2.0",
            "_view_count": null,
            "flex_flow": null,
            "width": null,
            "min_width": null,
            "border": null,
            "align_items": null,
            "bottom": null,
            "_model_module": "@jupyter-widgets/base",
            "top": null,
            "grid_column": null,
            "overflow_y": null,
            "overflow_x": null,
            "grid_auto_flow": null,
            "grid_area": null,
            "grid_template_columns": null,
            "flex": null,
            "_model_name": "LayoutModel",
            "justify_items": null,
            "grid_row": null,
            "max_height": null,
            "align_content": null,
            "visibility": null,
            "align_self": null,
            "height": null,
            "min_height": null,
            "padding": null,
            "grid_auto_rows": null,
            "grid_gap": null,
            "max_width": null,
            "order": null,
            "_view_module_version": "1.2.0",
            "grid_template_areas": null,
            "object_position": null,
            "object_fit": null,
            "grid_auto_columns": null,
            "margin": null,
            "display": null,
            "left": null
          }
        },
        "0203446e371e45b1a93fc25dd6790545": {
          "model_module": "@jupyter-widgets/controls",
          "model_name": "DescriptionStyleModel",
          "state": {
            "_view_name": "StyleView",
            "_model_name": "DescriptionStyleModel",
            "description_width": "",
            "_view_module": "@jupyter-widgets/base",
            "_model_module_version": "1.5.0",
            "_view_count": null,
            "_view_module_version": "1.2.0",
            "_model_module": "@jupyter-widgets/controls"
          }
        },
        "6f67eb08c0274649b9a4ccdef5311083": {
          "model_module": "@jupyter-widgets/base",
          "model_name": "LayoutModel",
          "state": {
            "_view_name": "LayoutView",
            "grid_template_rows": null,
            "right": null,
            "justify_content": null,
            "_view_module": "@jupyter-widgets/base",
            "overflow": null,
            "_model_module_version": "1.2.0",
            "_view_count": null,
            "flex_flow": null,
            "width": null,
            "min_width": null,
            "border": null,
            "align_items": null,
            "bottom": null,
            "_model_module": "@jupyter-widgets/base",
            "top": null,
            "grid_column": null,
            "overflow_y": null,
            "overflow_x": null,
            "grid_auto_flow": null,
            "grid_area": null,
            "grid_template_columns": null,
            "flex": null,
            "_model_name": "LayoutModel",
            "justify_items": null,
            "grid_row": null,
            "max_height": null,
            "align_content": null,
            "visibility": null,
            "align_self": null,
            "height": null,
            "min_height": null,
            "padding": null,
            "grid_auto_rows": null,
            "grid_gap": null,
            "max_width": null,
            "order": null,
            "_view_module_version": "1.2.0",
            "grid_template_areas": null,
            "object_position": null,
            "object_fit": null,
            "grid_auto_columns": null,
            "margin": null,
            "display": null,
            "left": null
          }
        }
      }
    }
  },
  "cells": [
    {
      "cell_type": "markdown",
      "metadata": {
        "id": "view-in-github",
        "colab_type": "text"
      },
      "source": [
        "<a href=\"https://colab.research.google.com/github/zaid478/MSDS19006_COVID19_DLSpring2020/blob/master/covid19_classification_focal_loss.ipynb\" target=\"_parent\"><img src=\"https://colab.research.google.com/assets/colab-badge.svg\" alt=\"Open In Colab\"/></a>"
      ]
    },
    {
      "cell_type": "code",
      "metadata": {
        "id": "l7K-DORFebGh",
        "colab_type": "code",
        "colab": {}
      },
      "source": [
        "import torch\n",
        "import torch.nn as nn\n",
        "import torch.optim as optim\n",
        "from torch.optim import lr_scheduler\n",
        "from torch.autograd import Variable\n",
        "import numpy as np\n",
        "import pandas as pd\n",
        "import torchvision\n",
        "from torchvision import datasets, models, transforms\n",
        "import matplotlib.pyplot as plt\n",
        "import time\n",
        "import os\n",
        "import copy\n",
        "from torch.nn.functional import one_hot,sigmoid,binary_cross_entropy_with_logits\n",
        "from sklearn.metrics import multilabel_confusion_matrix"
      ],
      "execution_count": 0,
      "outputs": []
    },
    {
      "cell_type": "code",
      "metadata": {
        "id": "sBqwWTJdSVH-",
        "colab_type": "code",
        "colab": {}
      },
      "source": [
        "!unzip \"/content/drive/My Drive/Copy_of_A_05_Part_02_Dataset.zip\" -d \"/content/drive/My Drive\""
      ],
      "execution_count": 0,
      "outputs": []
    },
    {
      "cell_type": "code",
      "metadata": {
        "id": "c5m48S-PVaZ8",
        "colab_type": "code",
        "outputId": "d7cdf221-bc1a-4aad-b2b5-4b875a790b6e",
        "colab": {
          "base_uri": "https://localhost:8080/",
          "height": 86
        }
      },
      "source": [
        "!gdown https://drive.google.com/uc?id=1Tgp5JhxrFty_jlI6qBlqpDo6O0CCYMSv"
      ],
      "execution_count": 2,
      "outputs": [
        {
          "output_type": "stream",
          "text": [
            "Downloading...\n",
            "From: https://drive.google.com/uc?id=1Tgp5JhxrFty_jlI6qBlqpDo6O0CCYMSv\n",
            "To: /content/Copy_of_A_05_Part_02_Dataset.zip\n",
            "3.00GB [00:44, 66.9MB/s]\n"
          ],
          "name": "stdout"
        }
      ]
    },
    {
      "cell_type": "code",
      "metadata": {
        "id": "eNT-GQH3XHlY",
        "colab_type": "code",
        "colab": {}
      },
      "source": [
        "!unzip /content/Copy_of_A_05_Part_02_Dataset.zip"
      ],
      "execution_count": 0,
      "outputs": []
    },
    {
      "cell_type": "code",
      "metadata": {
        "id": "aRyr_SIlf1LD",
        "colab_type": "code",
        "colab": {}
      },
      "source": [
        "!mkdir /content/A_05_Part_02_Dataset/Test/sub_test"
      ],
      "execution_count": 0,
      "outputs": []
    },
    {
      "cell_type": "code",
      "metadata": {
        "id": "W_crzUtLf-JV",
        "colab_type": "code",
        "colab": {}
      },
      "source": [
        "!mv /content/A_05_Part_02_Dataset/Test/*.jpg /content/A_05_Part_02_Dataset/Test/sub_test/"
      ],
      "execution_count": 0,
      "outputs": []
    },
    {
      "cell_type": "code",
      "metadata": {
        "id": "pYPsJmi0iP0g",
        "colab_type": "code",
        "colab": {}
      },
      "source": [
        "class ImageFolderWithPaths(datasets.ImageFolder):\n",
        "    \"\"\"Custom dataset that includes image file paths. Extends\n",
        "    torchvision.datasets.ImageFolder\n",
        "    \"\"\"\n",
        "\n",
        "    # override the __getitem__ method. this is the method that dataloader calls\n",
        "    def __getitem__(self, index):\n",
        "        # this is what ImageFolder normally returns \n",
        "        original_tuple = super(ImageFolderWithPaths, self).__getitem__(index)\n",
        "        # the image file path\n",
        "        path = self.imgs[index][0]\n",
        "        # make a new tuple that includes original and the path\n",
        "        tuple_with_path = (original_tuple + (path,))\n",
        "        return tuple_with_path"
      ],
      "execution_count": 0,
      "outputs": []
    },
    {
      "cell_type": "code",
      "metadata": {
        "id": "Or3pta6FeZTE",
        "colab_type": "code",
        "colab": {}
      },
      "source": [
        "data_dir = '/content/A_05_Part_02_Dataset'\n",
        "#Define transforms for the training data and testing data\n",
        "train_transforms = transforms.Compose([transforms.RandomRotation(30),\n",
        "                                       transforms.RandomResizedCrop(224),\n",
        "                                       transforms.RandomHorizontalFlip(),\n",
        "                                       transforms.ToTensor(),\n",
        "                                       transforms.Normalize([0.485, 0.456, 0.406],\n",
        "                                                            [0.229, 0.224, 0.225])])\n",
        "\n",
        "test_transforms = transforms.Compose([transforms.Resize(256),\n",
        "                                      transforms.RandomResizedCrop(224),\n",
        "                                      transforms.ToTensor(),\n",
        "                                      transforms.Normalize([0.485, 0.456, 0.406],\n",
        "                                                           [0.229, 0.224, 0.225])])\n",
        "\n",
        "\n",
        "#pass transform here-in\n",
        "train_data = datasets.ImageFolder(data_dir + '/Train', transform=train_transforms)\n",
        "test_data = datasets.ImageFolder(data_dir + '/Validation', transform=test_transforms)\n",
        "testing_data = ImageFolderWithPaths(data_dir + '/Test', transform=test_transforms)\n",
        "\n",
        "#data loaders\n",
        "trainloader = torch.utils.data.DataLoader(train_data, batch_size=64, shuffle=True,num_workers= 4)\n",
        "testloader = torch.utils.data.DataLoader(test_data, batch_size=64, shuffle=True, num_workers= 4)\n",
        "testingloader = torch.utils.data.DataLoader(testing_data, batch_size=64, shuffle=True, num_workers= 4)\n",
        "\n",
        "print(\"Classes: \")\n",
        "class_names = train_data.classes\n",
        "print(class_names)"
      ],
      "execution_count": 0,
      "outputs": []
    },
    {
      "cell_type": "code",
      "metadata": {
        "id": "kk-h9yzOgkN6",
        "colab_type": "code",
        "colab": {
          "base_uri": "https://localhost:8080/",
          "height": 34
        },
        "outputId": "0d41051c-00f3-4faa-bff1-0713e1c42253"
      },
      "source": [
        "len(testing_data)"
      ],
      "execution_count": 17,
      "outputs": [
        {
          "output_type": "execute_result",
          "data": {
            "text/plain": [
              "629"
            ]
          },
          "metadata": {
            "tags": []
          },
          "execution_count": 17
        }
      ]
    },
    {
      "cell_type": "code",
      "metadata": {
        "id": "q4FD4N_We7vn",
        "colab_type": "code",
        "outputId": "eea20ad2-4fe5-4a4f-a58a-1ad91fc4ab57",
        "colab": {
          "base_uri": "https://localhost:8080/",
          "height": 34
        }
      },
      "source": [
        "len(train_data),len(test_data)"
      ],
      "execution_count": 0,
      "outputs": [
        {
          "output_type": "execute_result",
          "data": {
            "text/plain": [
              "(6200, 628)"
            ]
          },
          "metadata": {
            "tags": []
          },
          "execution_count": 39
        }
      ]
    },
    {
      "cell_type": "code",
      "metadata": {
        "id": "mmDFZeJxjh5K",
        "colab_type": "code",
        "colab": {}
      },
      "source": [
        "def make_multiple_hot(labels):\n",
        "  one_hot_encodings = torch.zeros((len(labels),3))\n",
        "  for index_ in range(len(one_hot_encodings)):\n",
        "    if (labels[index_] == 0):\n",
        "      one_hot_encodings[index_,0] = 1\n",
        "      one_hot_encodings[index_,2] = 1\n",
        "    elif (labels[index_] == 1):\n",
        "      one_hot_encodings[index_,1] = 1\n",
        "    else:\n",
        "      one_hot_encodings[index_,2] = 1\n",
        "  \n",
        "  return one_hot_encodings"
      ],
      "execution_count": 0,
      "outputs": []
    },
    {
      "cell_type": "code",
      "metadata": {
        "id": "45Z5mY89rzPH",
        "colab_type": "code",
        "colab": {}
      },
      "source": [
        "def threshold(scores):\n",
        "  for index,sc in enumerate(scores):\n",
        "    if sc >= 0.5:\n",
        "      scores[index] = 1\n",
        "\n",
        "    else:\n",
        "      scores[index] = 0\n",
        "  return scores"
      ],
      "execution_count": 0,
      "outputs": []
    },
    {
      "cell_type": "code",
      "metadata": {
        "id": "OI1VOc7Kylyp",
        "colab_type": "code",
        "colab": {}
      },
      "source": [
        "def accuracy(labels,labels_model):\n",
        "  n_ = 0\n",
        "  for i,j in zip(labels,labels_model):\n",
        "    label_ = (i == 1).nonzero()\n",
        "    label_mod = (j == 1).nonzero()\n",
        "    # print (label_,label_mod)\n",
        "    sc = len(np.intersect1d(label_,label_mod))/len(np.union1d(label_,label_mod))\n",
        "    n_ += sc\n",
        "  return n_"
      ],
      "execution_count": 0,
      "outputs": []
    },
    {
      "cell_type": "code",
      "metadata": {
        "id": "LmpK0OZztI8c",
        "colab_type": "code",
        "colab": {}
      },
      "source": [
        "def train_model(model_,epochs,optimizer,model_dir,model_name,type_):\n",
        "\n",
        "\n",
        "  #if you have gpu then you need to convert the network and data to cuda\n",
        "  #the easiest way is to first check for device and then convert network and data to device\n",
        "  device = torch.device(\"cuda:0\" if torch.cuda.is_available() else \"cpu\")\n",
        "  print (device)\n",
        "  model_.to(device)\n",
        "  # sig_layer = nn.Sigmoid()\n",
        "\n",
        "  best_loss = 10000\n",
        "  # criterion = nn.BCEWithLogitsLoss()\n",
        "  losses_train,losses_valid,accuracy_train,accuracy_valid = [],[],[],[]\n",
        "  for epoch in range(epochs):  # loop over the dataset multiple times\n",
        "\n",
        "      model_.train(True)\n",
        "      running_loss = 0.0\n",
        "      running_corrects = 0 \n",
        "      print (\"Training\")\n",
        "      batch = 0\n",
        "      for inputs,labels in trainloader: \n",
        "          inputs,labels = inputs.to(device), labels.to(device)\n",
        "          labels = make_multiple_hot(labels)\n",
        "          print (batch)\n",
        "          batch += 1\n",
        "          # zero the parameter gradients\n",
        "          optimizer.zero_grad()\n",
        "\n",
        "          # forward + backward + optimize\n",
        "          outputs = model_(inputs)               #----> forward pass\n",
        "          # print (outputs)\n",
        "          labels = labels.type_as(outputs)\n",
        "          loss = focal_loss(outputs, labels,0.25,2)   #----> compute loss\n",
        "          loss.backward()                     #----> backward pass\n",
        "          optimizer.step()                    #----> weights update\n",
        "          scores = sigmoid(outputs)\n",
        "          # print (scores)\n",
        "          labels_model = np.apply_along_axis(threshold, 1, scores.detach().cpu().numpy())\n",
        "          running_loss += loss.item()\n",
        "\n",
        "          acc_ = accuracy(labels.cpu().numpy(),labels_model)\n",
        "          running_corrects += acc_\n",
        "      epoch_loss = running_loss / len(train_data)\n",
        "      epoch_acc = running_corrects /len(train_data)\n",
        "      losses_train.append(epoch_loss)\n",
        "      accuracy_train.append(epoch_acc)\n",
        "\n",
        "\n",
        "      model_.eval()\n",
        "      running_loss = 0.0\n",
        "      running_corrects = 0\n",
        "      print (\"Validation\")\n",
        "      batch = 0\n",
        "      for inputs,labels in testloader:\n",
        "        inputs,labels = inputs.to(device),labels.to(device)\n",
        "        labels = make_multiple_hot(labels)        \n",
        "        output_val = model_(inputs)\n",
        "        labels = labels.type_as(outputs)\n",
        "        loss = focal_loss(output_val, labels,0.25,2)\n",
        "        scores = sigmoid(output_val)\n",
        "        # print (scores)\n",
        "        labels_model = np.apply_along_axis(threshold, 1, scores.detach().cpu().numpy())\n",
        "        print (batch)\n",
        "        batch += 1\n",
        "        running_loss += loss.item()\n",
        "        acc_ = accuracy(labels.cpu().numpy(),labels_model)\n",
        "        running_corrects += acc_\n",
        "\n",
        "\n",
        "      epoch_loss_valid = running_loss/len(test_data)\n",
        "      epoch_acc_valid = running_corrects/len(test_data)\n",
        "      losses_valid.append(epoch_loss_valid)\n",
        "      accuracy_valid.append(epoch_acc_valid)\n",
        "\n",
        "      print (\"Epoch {}\".format(epoch))\n",
        "      print('{} Loss: {:.4f} Acc: {:.4f}'.format('Training', epoch_loss, epoch_acc))\n",
        "      print('{} Loss: {:.4f} Acc: {:.4f}'.format('Validation', epoch_loss_valid, epoch_acc_valid))\n",
        "\n",
        "      if (epoch_loss < best_loss):\n",
        "        print (\"saving\")\n",
        "        torch.save(model_, model_dir+model_name+'_'+type_+'.pth')\n",
        "      np.save(model_dir+model_name+'_'+type_+\"metrics.txt\",[losses_train,losses_valid,accuracy_train,accuracy_valid])\n",
        "\n",
        "\n",
        "\n",
        "  print('Finished Training')"
      ],
      "execution_count": 0,
      "outputs": []
    },
    {
      "cell_type": "markdown",
      "metadata": {
        "id": "GEi6Gb_ZrHpB",
        "colab_type": "text"
      },
      "source": [
        "### Task 1 a) VGG 16 without focal loss "
      ]
    },
    {
      "cell_type": "code",
      "metadata": {
        "id": "ltOCuu9frF5J",
        "colab_type": "code",
        "outputId": "d09ef2f2-db39-48ab-d993-b65f4787541f",
        "colab": {
          "base_uri": "https://localhost:8080/",
          "height": 84,
          "referenced_widgets": [
            "62b0acbaf7d54539b38e60fb50a0473b",
            "7da15d7c28ff4988b27cee6b668aa37b",
            "26207fdb3f4e490dacbfd49aaf2bef1b",
            "6d2d0a73f0764b4abc32699056c98504",
            "4dc322e958ee41dcbc85511cec686f13",
            "66d9c2a1098c424380ba6f4db6032d3d",
            "4948c3e753814d6ca6efbc3f644ee9f7",
            "cca7d7b4e22847c6af3c0c8f2819f8e4"
          ]
        }
      },
      "source": [
        "# Load the pretrained model from pytorch\n",
        "vgg16 = models.vgg16(pretrained=True)"
      ],
      "execution_count": 0,
      "outputs": [
        {
          "output_type": "stream",
          "text": [
            "Downloading: \"https://download.pytorch.org/models/vgg16-397923af.pth\" to /root/.cache/torch/checkpoints/vgg16-397923af.pth\n"
          ],
          "name": "stderr"
        },
        {
          "output_type": "display_data",
          "data": {
            "application/vnd.jupyter.widget-view+json": {
              "model_id": "62b0acbaf7d54539b38e60fb50a0473b",
              "version_minor": 0,
              "version_major": 2
            },
            "text/plain": [
              "HBox(children=(IntProgress(value=0, max=553433881), HTML(value='')))"
            ]
          },
          "metadata": {
            "tags": []
          }
        },
        {
          "output_type": "stream",
          "text": [
            "\n"
          ],
          "name": "stdout"
        }
      ]
    },
    {
      "cell_type": "code",
      "metadata": {
        "id": "bzNxe3c3rfQB",
        "colab_type": "code",
        "colab": {}
      },
      "source": [
        "num_features = 25088\n",
        "\n",
        "vgg16.classifier = nn.Sequential(*[nn.Linear(num_features,1024), nn.ReLU(), nn.Linear(1024,3)])"
      ],
      "execution_count": 0,
      "outputs": []
    },
    {
      "cell_type": "code",
      "metadata": {
        "id": "ekUKleqQtDdm",
        "colab_type": "code",
        "colab": {}
      },
      "source": [
        "Epochs = 30\n",
        "criterion = nn.BCEWithLogitsLoss()\n",
        "optimizer = optim.Adam(vgg16.parameters(), lr=0.001)\n",
        "model_dir = \"/content/drive/My Drive/model_pytorch/assignment_5b/\"\n",
        "\n",
        "train_model(vgg16,criterion,Epochs,optimizer,model_dir,\"vgg16\",\"without_focal\")"
      ],
      "execution_count": 0,
      "outputs": []
    },
    {
      "cell_type": "code",
      "metadata": {
        "id": "FXiEwjAsUgU0",
        "colab_type": "code",
        "colab": {}
      },
      "source": [
        "metrics_ = np.load(model_dir+\"vgg16_without_focalmetrics.txt.npy\")"
      ],
      "execution_count": 0,
      "outputs": []
    },
    {
      "cell_type": "code",
      "metadata": {
        "id": "1MVOWrZPpLho",
        "colab_type": "code",
        "colab": {}
      },
      "source": [
        "losses_train,losses_valid,accuracy_train,accuracy_valid = metrics_[0],metrics_[1],metrics_[2],metrics_[3]"
      ],
      "execution_count": 0,
      "outputs": []
    },
    {
      "cell_type": "code",
      "metadata": {
        "id": "fpn42GZ8pmrZ",
        "colab_type": "code",
        "outputId": "8c844238-a99d-4f56-a689-3041c51a2e14",
        "colab": {
          "base_uri": "https://localhost:8080/",
          "height": 296
        }
      },
      "source": [
        "plt.plot(losses_train)\n",
        "plt.ylabel(\"Training Loss\")\n",
        "plt.xlabel(\"Epochs\")"
      ],
      "execution_count": 0,
      "outputs": [
        {
          "output_type": "execute_result",
          "data": {
            "text/plain": [
              "Text(0.5, 0, 'Epochs')"
            ]
          },
          "metadata": {
            "tags": []
          },
          "execution_count": 16
        },
        {
          "output_type": "display_data",
          "data": {
            "image/png": "[encoded data removed]",
            "text/plain": [
              "<Figure size 432x288 with 1 Axes>"
            ]
          },
          "metadata": {
            "tags": [],
            "needs_background": "light"
          }
        }
      ]
    },
    {
      "cell_type": "code",
      "metadata": {
        "id": "Zh749f2Cpgdv",
        "colab_type": "code",
        "outputId": "81f3657a-aee5-4743-a185-20583b5331e2",
        "colab": {
          "base_uri": "https://localhost:8080/",
          "height": 296
        }
      },
      "source": [
        "plt.plot(losses_valid)\n",
        "plt.ylabel(\"Validation Loss\")\n",
        "plt.xlabel(\"Epochs\")"
      ],
      "execution_count": 0,
      "outputs": [
        {
          "output_type": "execute_result",
          "data": {
            "text/plain": [
              "Text(0.5, 0, 'Epochs')"
            ]
          },
          "metadata": {
            "tags": []
          },
          "execution_count": 17
        },
        {
          "output_type": "display_data",
          "data": {
            "image/png": "[encoded data removed]",
            "text/plain": [
              "<Figure size 432x288 with 1 Axes>"
            ]
          },
          "metadata": {
            "tags": [],
            "needs_background": "light"
          }
        }
      ]
    },
    {
      "cell_type": "code",
      "metadata": {
        "id": "uiejntfWqDMV",
        "colab_type": "code",
        "outputId": "095ac146-ce47-4781-c371-b32e32eb819d",
        "colab": {
          "base_uri": "https://localhost:8080/",
          "height": 296
        }
      },
      "source": [
        "plt.plot(accuracy_train)\n",
        "plt.ylabel(\"Training Accuracy\")\n",
        "plt.xlabel(\"Epochs\")"
      ],
      "execution_count": 0,
      "outputs": [
        {
          "output_type": "execute_result",
          "data": {
            "text/plain": [
              "Text(0.5, 0, 'Epochs')"
            ]
          },
          "metadata": {
            "tags": []
          },
          "execution_count": 18
        },
        {
          "output_type": "display_data",
          "data": {
            "image/png": "[encoded data removed]",
            "text/plain": [
              "<Figure size 432x288 with 1 Axes>"
            ]
          },
          "metadata": {
            "tags": [],
            "needs_background": "light"
          }
        }
      ]
    },
    {
      "cell_type": "code",
      "metadata": {
        "id": "a7PxMt8KqDZr",
        "colab_type": "code",
        "outputId": "14195bad-8621-4180-a58b-68cdd3308b65",
        "colab": {
          "base_uri": "https://localhost:8080/",
          "height": 296
        }
      },
      "source": [
        "plt.plot(accuracy_valid)\n",
        "plt.ylabel(\"Validation Accuracy\")\n",
        "plt.xlabel(\"Epochs\")"
      ],
      "execution_count": 0,
      "outputs": [
        {
          "output_type": "execute_result",
          "data": {
            "text/plain": [
              "Text(0.5, 0, 'Epochs')"
            ]
          },
          "metadata": {
            "tags": []
          },
          "execution_count": 19
        },
        {
          "output_type": "display_data",
          "data": {
            "image/png": "[encoded data removed]",
            "text/plain": [
              "<Figure size 432x288 with 1 Axes>"
            ]
          },
          "metadata": {
            "tags": [],
            "needs_background": "light"
          }
        }
      ]
    },
    {
      "cell_type": "markdown",
      "metadata": {
        "id": "oryfumbly7-3",
        "colab_type": "text"
      },
      "source": [
        "#### Confusion Matrix"
      ]
    },
    {
      "cell_type": "code",
      "metadata": {
        "id": "fcxxg7U7qDi1",
        "colab_type": "code",
        "outputId": "f8090269-9550-4b51-cc47-6f0eec3b1b4d",
        "colab": {
          "base_uri": "https://localhost:8080/",
          "height": 156
        }
      },
      "source": [
        "model_dir = \"/content/drive/My Drive/model_pytorch/assignment_5b/\"\n",
        "vgg16 = torch.load(model_dir+\"vgg16_without_focal.pth\")\n",
        "# nb_classes = 2\n",
        "device = torch.device(\"cuda:0\" if torch.cuda.is_available() else \"cpu\")\n",
        "labels_model = np.empty((0,3), int)\n",
        "labels_true = np.empty((0,3), int)\n",
        "\n",
        "with torch.no_grad():\n",
        "    for i, (inputs, labels) in enumerate(testloader):\n",
        "        print (i)\n",
        "        inputs = inputs.to(device)\n",
        "        labels = labels.to(device)\n",
        "        \n",
        "        labels = make_multiple_hot(labels)\n",
        "\n",
        "        outputs = vgg16(inputs)\n",
        "        scores = sigmoid(outputs)\n",
        "        # print (scores)\n",
        "        labels_mod = np.apply_along_axis(threshold, 1, scores.detach().cpu().numpy())\n",
        "\n",
        "        labels_true = np.append(labels_true,labels,axis=0)\n",
        "        labels_model = np.append(labels_model,labels_mod,axis=0)\n",
        "        # print (labels_model.shape)\n",
        "\n",
        "\n",
        "\n",
        "\n",
        "print(multilabel_confusion_matrix(labels_true,labels_model))"
      ],
      "execution_count": 15,
      "outputs": [
        {
          "output_type": "stream",
          "text": [
            "[[[600   0]\n",
            "  [ 28   0]]\n",
            "\n",
            " [[188  40]\n",
            "  [ 69 331]]\n",
            "\n",
            " [[333  67]\n",
            "  [ 40 188]]]\n"
          ],
          "name": "stdout"
        }
      ]
    },
    {
      "cell_type": "markdown",
      "metadata": {
        "id": "hqCTPg5dqoGr",
        "colab_type": "text"
      },
      "source": [
        "### Task 1 b) ResNet 18 without focal loss"
      ]
    },
    {
      "cell_type": "code",
      "metadata": {
        "id": "I3dotJ3DUgx3",
        "colab_type": "code",
        "outputId": "1e054109-7da4-420d-8f3b-7acf81bf613e",
        "colab": {
          "base_uri": "https://localhost:8080/",
          "height": 84,
          "referenced_widgets": [
            "33c30e24597440f6840c04bb4ceea51f",
            "9c576605161b48f2964ec85369e28b86",
            "3aacbbc89fd5483f888d74976b23b4f8",
            "f15494a4fe544fd0a2cc4c131dd37103",
            "16dbdba7ab0c46f1b851c715c9e9fc79",
            "14cc5d88fbcc4f53ac47f710ab32785e",
            "0203446e371e45b1a93fc25dd6790545",
            "6f67eb08c0274649b9a4ccdef5311083"
          ]
        }
      },
      "source": [
        "res18 = models.resnet18(pretrained=True)"
      ],
      "execution_count": 0,
      "outputs": [
        {
          "output_type": "stream",
          "text": [
            "Downloading: \"https://download.pytorch.org/models/resnet18-5c106cde.pth\" to /root/.cache/torch/checkpoints/resnet18-5c106cde.pth\n"
          ],
          "name": "stderr"
        },
        {
          "output_type": "display_data",
          "data": {
            "application/vnd.jupyter.widget-view+json": {
              "model_id": "33c30e24597440f6840c04bb4ceea51f",
              "version_minor": 0,
              "version_major": 2
            },
            "text/plain": [
              "HBox(children=(IntProgress(value=0, max=46827520), HTML(value='')))"
            ]
          },
          "metadata": {
            "tags": []
          }
        },
        {
          "output_type": "stream",
          "text": [
            "\n"
          ],
          "name": "stdout"
        }
      ]
    },
    {
      "cell_type": "code",
      "metadata": {
        "id": "tumuzDMKUo2V",
        "colab_type": "code",
        "colab": {}
      },
      "source": [
        "num_features = res18.fc.in_features\n",
        "res18.fc = nn.Sequential(*[nn.Linear(num_features,256), nn.ReLU(), nn.Linear(256,3)])"
      ],
      "execution_count": 0,
      "outputs": []
    },
    {
      "cell_type": "code",
      "metadata": {
        "id": "adcg8HeBUu6d",
        "colab_type": "code",
        "colab": {}
      },
      "source": [
        "Epochs = 30\n",
        "criterion = nn.BCEWithLogitsLoss()\n",
        "optimizer = optim.Adam(res18.parameters(), lr=0.001)\n",
        "model_dir = \"/content/drive/My Drive/model_pytorch/assignment_5b/\"\n",
        "\n",
        "train_model(res18,criterion,Epochs,optimizer,model_dir,\"res18\",\"without_focal\")"
      ],
      "execution_count": 0,
      "outputs": []
    },
    {
      "cell_type": "code",
      "metadata": {
        "id": "W2DqvB7Cq00g",
        "colab_type": "code",
        "colab": {}
      },
      "source": [
        "metrics_ = np.load(model_dir+\"res18_without_focalmetrics.txt.npy\")\n",
        "losses_train,losses_valid,accuracy_train,accuracy_valid = metrics_[0],metrics_[1],metrics_[2],metrics_[3]"
      ],
      "execution_count": 0,
      "outputs": []
    },
    {
      "cell_type": "code",
      "metadata": {
        "id": "zMXrfCSQq-5-",
        "colab_type": "code",
        "outputId": "39651555-f7de-4170-9854-c595cb8b9b07",
        "colab": {
          "base_uri": "https://localhost:8080/",
          "height": 296
        }
      },
      "source": [
        "plt.plot(losses_train)\n",
        "plt.ylabel(\"Training Loss\")\n",
        "plt.xlabel(\"Epochs\")"
      ],
      "execution_count": 0,
      "outputs": [
        {
          "output_type": "execute_result",
          "data": {
            "text/plain": [
              "Text(0.5, 0, 'Epochs')"
            ]
          },
          "metadata": {
            "tags": []
          },
          "execution_count": 21
        },
        {
          "output_type": "display_data",
          "data": {
            "image/png": "[encoded data removed]",
            "text/plain": [
              "<Figure size 432x288 with 1 Axes>"
            ]
          },
          "metadata": {
            "tags": [],
            "needs_background": "light"
          }
        }
      ]
    },
    {
      "cell_type": "code",
      "metadata": {
        "id": "I49hiCc0rFKx",
        "colab_type": "code",
        "outputId": "7292c693-2836-4003-c32c-cdf997ae0062",
        "colab": {
          "base_uri": "https://localhost:8080/",
          "height": 296
        }
      },
      "source": [
        "plt.plot(losses_valid)\n",
        "plt.ylabel(\"Validation Loss\")\n",
        "plt.xlabel(\"Epochs\")"
      ],
      "execution_count": 0,
      "outputs": [
        {
          "output_type": "execute_result",
          "data": {
            "text/plain": [
              "Text(0.5, 0, 'Epochs')"
            ]
          },
          "metadata": {
            "tags": []
          },
          "execution_count": 22
        },
        {
          "output_type": "display_data",
          "data": {
            "image/png": "[encoded data removed]",
            "text/plain": [
              "<Figure size 432x288 with 1 Axes>"
            ]
          },
          "metadata": {
            "tags": [],
            "needs_background": "light"
          }
        }
      ]
    },
    {
      "cell_type": "code",
      "metadata": {
        "id": "TuEzW50ErIzZ",
        "colab_type": "code",
        "outputId": "c367dfe3-71df-4fe4-97c1-58695c7d93bc",
        "colab": {
          "base_uri": "https://localhost:8080/",
          "height": 296
        }
      },
      "source": [
        "plt.plot(accuracy_train)\n",
        "plt.ylabel(\"Training Accuracy\")\n",
        "plt.xlabel(\"Epochs\")"
      ],
      "execution_count": 0,
      "outputs": [
        {
          "output_type": "execute_result",
          "data": {
            "text/plain": [
              "Text(0.5, 0, 'Epochs')"
            ]
          },
          "metadata": {
            "tags": []
          },
          "execution_count": 23
        },
        {
          "output_type": "display_data",
          "data": {
            "image/png": "[encoded data removed]",
            "text/plain": [
              "<Figure size 432x288 with 1 Axes>"
            ]
          },
          "metadata": {
            "tags": [],
            "needs_background": "light"
          }
        }
      ]
    },
    {
      "cell_type": "code",
      "metadata": {
        "id": "L775EoiarM8n",
        "colab_type": "code",
        "outputId": "3998e738-d6d8-4197-ce11-9683588151c7",
        "colab": {
          "base_uri": "https://localhost:8080/",
          "height": 296
        }
      },
      "source": [
        "plt.plot(accuracy_valid)\n",
        "plt.ylabel(\"Validation Accuracy\")\n",
        "plt.xlabel(\"Epochs\")"
      ],
      "execution_count": 0,
      "outputs": [
        {
          "output_type": "execute_result",
          "data": {
            "text/plain": [
              "Text(0.5, 0, 'Epochs')"
            ]
          },
          "metadata": {
            "tags": []
          },
          "execution_count": 24
        },
        {
          "output_type": "display_data",
          "data": {
            "image/png": "[encoded data removed]",
            "text/plain": [
              "<Figure size 432x288 with 1 Axes>"
            ]
          },
          "metadata": {
            "tags": [],
            "needs_background": "light"
          }
        }
      ]
    },
    {
      "cell_type": "code",
      "metadata": {
        "id": "ioOoNmsUv1Qu",
        "colab_type": "code",
        "colab": {
          "base_uri": "https://localhost:8080/",
          "height": 364
        },
        "outputId": "3599b14b-f9b1-4cb9-9d1e-75ea621b252c"
      },
      "source": [
        "model_dir = \"/content/drive/My Drive/model_pytorch/assignment_5b/\"\n",
        "res18 = torch.load(model_dir+\"res18_without_focal.pth\")\n",
        "# nb_classes = 2\n",
        "device = torch.device(\"cuda:0\" if torch.cuda.is_available() else \"cpu\")\n",
        "labels_model = np.empty((0,3), int)\n",
        "labels_true = np.empty((0,3), int)\n",
        "\n",
        "with torch.no_grad():\n",
        "    for i, (inputs, labels) in enumerate(testloader):\n",
        "        print (i)\n",
        "        inputs = inputs.to(device)\n",
        "        labels = labels.to(device)\n",
        "        \n",
        "        labels = make_multiple_hot(labels)\n",
        "\n",
        "        outputs = res18(inputs)\n",
        "        scores = sigmoid(outputs)\n",
        "        # print (scores)\n",
        "        labels_mod = np.apply_along_axis(threshold, 1, scores.detach().cpu().numpy())\n",
        "\n",
        "        labels_true = np.append(labels_true,labels,axis=0)\n",
        "        labels_model = np.append(labels_model,labels_mod,axis=0)\n",
        "        # print (labels_model.shape)\n",
        "\n",
        "\n",
        "\n",
        "\n",
        "print(multilabel_confusion_matrix(labels_true,labels_model))"
      ],
      "execution_count": 17,
      "outputs": [
        {
          "output_type": "stream",
          "text": [
            "0\n"
          ],
          "name": "stdout"
        },
        {
          "output_type": "stream",
          "text": [
            "/usr/local/lib/python3.6/dist-packages/torch/nn/functional.py:1569: UserWarning: nn.functional.sigmoid is deprecated. Use torch.sigmoid instead.\n",
            "  warnings.warn(\"nn.functional.sigmoid is deprecated. Use torch.sigmoid instead.\")\n"
          ],
          "name": "stderr"
        },
        {
          "output_type": "stream",
          "text": [
            "1\n",
            "2\n",
            "3\n",
            "4\n",
            "5\n",
            "6\n",
            "7\n",
            "8\n",
            "9\n",
            "[[[595   5]\n",
            "  [ 16  12]]\n",
            "\n",
            " [[196  32]\n",
            "  [ 20 380]]\n",
            "\n",
            " [[380  20]\n",
            "  [ 32 196]]]\n"
          ],
          "name": "stdout"
        }
      ]
    },
    {
      "cell_type": "code",
      "metadata": {
        "id": "1wnuRvPMwaX0",
        "colab_type": "code",
        "colab": {}
      },
      "source": [
        ""
      ],
      "execution_count": 0,
      "outputs": []
    },
    {
      "cell_type": "code",
      "metadata": {
        "id": "QtejsPy1CFqZ",
        "colab_type": "code",
        "colab": {}
      },
      "source": [
        "def focal_loss(model_output,target,alpha,gamma):\n",
        "\n",
        "\n",
        "  logpt = - binary_cross_entropy_with_logits(model_output, target, reduction='sum')\n",
        "  pt = torch.exp(logpt)\n",
        "\n",
        "   # compute the loss\n",
        "  focal_loss = -( (1-pt)**gamma ) * logpt * alpha\n",
        "\n",
        "  return focal_loss"
      ],
      "execution_count": 0,
      "outputs": []
    },
    {
      "cell_type": "code",
      "metadata": {
        "id": "JX7ScUkqriBD",
        "colab_type": "code",
        "colab": {}
      },
      "source": [
        ""
      ],
      "execution_count": 0,
      "outputs": []
    },
    {
      "cell_type": "markdown",
      "metadata": {
        "id": "AdC-am_9rl7b",
        "colab_type": "text"
      },
      "source": [
        "### Task 2 a) VGG 16 with focal loss"
      ]
    },
    {
      "cell_type": "code",
      "metadata": {
        "id": "DpCvOKDYDxX1",
        "colab_type": "code",
        "colab": {}
      },
      "source": [
        "Epochs = 30\n",
        "optimizer = optim.Adam(vgg16.parameters(), lr=0.001)\n",
        "model_dir = \"/content/drive/My Drive/model_pytorch/assignment_5b/\"\n",
        "\n",
        "train_model(vgg16,Epochs,optimizer,model_dir,\"vgg16\",\"with_focal\")"
      ],
      "execution_count": 0,
      "outputs": []
    },
    {
      "cell_type": "code",
      "metadata": {
        "id": "ufAVl9vlrv72",
        "colab_type": "code",
        "colab": {}
      },
      "source": [
        "metrics_ = np.load(\"/content/drive/My Drive/model_pytorch/assignment_5b/vgg16_with_focalmetrics.txt.npy\")\n",
        "losses_train,losses_valid,accuracy_train,accuracy_valid = metrics_[0],metrics_[1],metrics_[2],metrics_[3]"
      ],
      "execution_count": 0,
      "outputs": []
    },
    {
      "cell_type": "code",
      "metadata": {
        "id": "OdSlIm9ir3Dn",
        "colab_type": "code",
        "outputId": "1d4f189e-5edc-40a0-df15-a8a26313984d",
        "colab": {
          "base_uri": "https://localhost:8080/",
          "height": 296
        }
      },
      "source": [
        "plt.plot(losses_train)\n",
        "plt.ylabel(\"Training Loss\")\n",
        "plt.xlabel(\"Epochs\")"
      ],
      "execution_count": 0,
      "outputs": [
        {
          "output_type": "execute_result",
          "data": {
            "text/plain": [
              "Text(0.5, 0, 'Epochs')"
            ]
          },
          "metadata": {
            "tags": []
          },
          "execution_count": 27
        },
        {
          "output_type": "display_data",
          "data": {
            "image/png": "[encoded data removed]",
            "text/plain": [
              "<Figure size 432x288 with 1 Axes>"
            ]
          },
          "metadata": {
            "tags": [],
            "needs_background": "light"
          }
        }
      ]
    },
    {
      "cell_type": "code",
      "metadata": {
        "id": "Pm76-p3Ur5U7",
        "colab_type": "code",
        "outputId": "f748ffb0-cfac-4ffe-a3e3-da5d526b2336",
        "colab": {
          "base_uri": "https://localhost:8080/",
          "height": 296
        }
      },
      "source": [
        "plt.plot(losses_valid)\n",
        "plt.ylabel(\"Validation Loss\")\n",
        "plt.xlabel(\"Epochs\")"
      ],
      "execution_count": 0,
      "outputs": [
        {
          "output_type": "execute_result",
          "data": {
            "text/plain": [
              "Text(0.5, 0, 'Epochs')"
            ]
          },
          "metadata": {
            "tags": []
          },
          "execution_count": 28
        },
        {
          "output_type": "display_data",
          "data": {
            "image/png": "[encoded data removed]",
            "text/plain": [
              "<Figure size 432x288 with 1 Axes>"
            ]
          },
          "metadata": {
            "tags": [],
            "needs_background": "light"
          }
        }
      ]
    },
    {
      "cell_type": "code",
      "metadata": {
        "id": "x2YLjDjur5Yn",
        "colab_type": "code",
        "outputId": "e20f27a6-ceca-46ba-e19e-a588a1c86a06",
        "colab": {
          "base_uri": "https://localhost:8080/",
          "height": 296
        }
      },
      "source": [
        "plt.plot(accuracy_train)\n",
        "plt.ylabel(\"Training Accuracy\")\n",
        "plt.xlabel(\"Epochs\")"
      ],
      "execution_count": 0,
      "outputs": [
        {
          "output_type": "execute_result",
          "data": {
            "text/plain": [
              "Text(0.5, 0, 'Epochs')"
            ]
          },
          "metadata": {
            "tags": []
          },
          "execution_count": 29
        },
        {
          "output_type": "display_data",
          "data": {
            "image/png": "[encoded data removed]",
            "text/plain": [
              "<Figure size 432x288 with 1 Axes>"
            ]
          },
          "metadata": {
            "tags": [],
            "needs_background": "light"
          }
        }
      ]
    },
    {
      "cell_type": "code",
      "metadata": {
        "id": "crPIovbJr5R8",
        "colab_type": "code",
        "outputId": "e7645b6c-84b7-4a31-b117-b1438870b704",
        "colab": {
          "base_uri": "https://localhost:8080/",
          "height": 296
        }
      },
      "source": [
        "plt.plot(accuracy_valid)\n",
        "plt.ylabel(\"Validation Accuracy\")\n",
        "plt.xlabel(\"Epochs\")"
      ],
      "execution_count": 0,
      "outputs": [
        {
          "output_type": "execute_result",
          "data": {
            "text/plain": [
              "Text(0.5, 0, 'Epochs')"
            ]
          },
          "metadata": {
            "tags": []
          },
          "execution_count": 30
        },
        {
          "output_type": "display_data",
          "data": {
            "image/png": "[encoded data removed]",
            "text/plain": [
              "<Figure size 432x288 with 1 Axes>"
            ]
          },
          "metadata": {
            "tags": [],
            "needs_background": "light"
          }
        }
      ]
    },
    {
      "cell_type": "code",
      "metadata": {
        "id": "dBF4fNWosKZc",
        "colab_type": "code",
        "colab": {
          "base_uri": "https://localhost:8080/",
          "height": 364
        },
        "outputId": "76f87408-b892-4345-e70d-8879f3091174"
      },
      "source": [
        "model_dir = \"/content/drive/My Drive/model_pytorch/assignment_5b/\"\n",
        "vgg16 = torch.load(model_dir+\"vgg16_with_focal.pth\")\n",
        "# nb_classes = 2\n",
        "device = torch.device(\"cuda:0\" if torch.cuda.is_available() else \"cpu\")\n",
        "labels_model = np.empty((0,3), int)\n",
        "labels_true = np.empty((0,3), int)\n",
        "\n",
        "with torch.no_grad():\n",
        "    for i, (inputs, labels) in enumerate(testloader):\n",
        "        print (i)\n",
        "        inputs = inputs.to(device)\n",
        "        labels = labels.to(device)\n",
        "        \n",
        "        labels = make_multiple_hot(labels)\n",
        "\n",
        "        outputs = vgg16(inputs)\n",
        "        scores = sigmoid(outputs)\n",
        "        # print (scores)\n",
        "        labels_mod = np.apply_along_axis(threshold, 1, scores.detach().cpu().numpy())\n",
        "\n",
        "        labels_true = np.append(labels_true,labels,axis=0)\n",
        "        labels_model = np.append(labels_model,labels_mod,axis=0)\n",
        "        # print (labels_model.shape)\n",
        "\n",
        "\n",
        "\n",
        "\n",
        "print(multilabel_confusion_matrix(labels_true,labels_model))"
      ],
      "execution_count": 18,
      "outputs": [
        {
          "output_type": "stream",
          "text": [
            "0\n"
          ],
          "name": "stdout"
        },
        {
          "output_type": "stream",
          "text": [
            "/usr/local/lib/python3.6/dist-packages/torch/nn/functional.py:1569: UserWarning: nn.functional.sigmoid is deprecated. Use torch.sigmoid instead.\n",
            "  warnings.warn(\"nn.functional.sigmoid is deprecated. Use torch.sigmoid instead.\")\n"
          ],
          "name": "stderr"
        },
        {
          "output_type": "stream",
          "text": [
            "1\n",
            "2\n",
            "3\n",
            "4\n",
            "5\n",
            "6\n",
            "7\n",
            "8\n",
            "9\n",
            "[[[600   0]\n",
            "  [ 28   0]]\n",
            "\n",
            " [[190  38]\n",
            "  [ 61 339]]\n",
            "\n",
            " [[339  61]\n",
            "  [ 38 190]]]\n"
          ],
          "name": "stdout"
        }
      ]
    },
    {
      "cell_type": "code",
      "metadata": {
        "id": "_oD4D0cDsKdu",
        "colab_type": "code",
        "colab": {}
      },
      "source": [
        ""
      ],
      "execution_count": 0,
      "outputs": []
    },
    {
      "cell_type": "markdown",
      "metadata": {
        "id": "8Fz3UE9Zsb4E",
        "colab_type": "text"
      },
      "source": [
        "### Task 2 a) ResNet 18 with focal loss"
      ]
    },
    {
      "cell_type": "code",
      "metadata": {
        "id": "iXENukw3TlDf",
        "colab_type": "code",
        "colab": {}
      },
      "source": [
        "Epochs = 30\n",
        "# criterion = nn.BCEWithLogitsLoss()\n",
        "optimizer = optim.Adam(res18.parameters(), lr=0.001)\n",
        "model_dir = \"/content/drive/My Drive/model_pytorch/assignment_5b/\"\n",
        "\n",
        "train_model(res18,Epochs,optimizer,model_dir,\"res18\",\"with_focal\")"
      ],
      "execution_count": 0,
      "outputs": []
    },
    {
      "cell_type": "code",
      "metadata": {
        "id": "sSSzBCVonz-t",
        "colab_type": "code",
        "colab": {}
      },
      "source": [
        "metrics_ = np.load(\"/content/drive/My Drive/model_pytorch/assignment_5b/res18_with_focalmetrics.txt.npy\")\n",
        "losses_train,losses_valid,accuracy_train,accuracy_valid = metrics_[0],metrics_[1],metrics_[2],metrics_[3]"
      ],
      "execution_count": 0,
      "outputs": []
    },
    {
      "cell_type": "code",
      "metadata": {
        "id": "N5fsaQNTsfaC",
        "colab_type": "code",
        "outputId": "8bf26bac-1070-4526-be07-5f57f925a158",
        "colab": {
          "base_uri": "https://localhost:8080/",
          "height": 296
        }
      },
      "source": [
        "plt.plot(losses_train)\n",
        "plt.ylabel(\"Training Loss\")\n",
        "plt.xlabel(\"Epochs\")"
      ],
      "execution_count": 0,
      "outputs": [
        {
          "output_type": "execute_result",
          "data": {
            "text/plain": [
              "Text(0.5, 0, 'Epochs')"
            ]
          },
          "metadata": {
            "tags": []
          },
          "execution_count": 32
        },
        {
          "output_type": "display_data",
          "data": {
            "image/png": "[encoded data removed]",
            "text/plain": [
              "<Figure size 432x288 with 1 Axes>"
            ]
          },
          "metadata": {
            "tags": [],
            "needs_background": "light"
          }
        }
      ]
    },
    {
      "cell_type": "code",
      "metadata": {
        "id": "0PiA3g0dsjBD",
        "colab_type": "code",
        "outputId": "8f72bf6f-ec87-4973-f407-f8c2436425c1",
        "colab": {
          "base_uri": "https://localhost:8080/",
          "height": 296
        }
      },
      "source": [
        "plt.plot(losses_valid)\n",
        "plt.ylabel(\"Validation Loss\")\n",
        "plt.xlabel(\"Epochs\")"
      ],
      "execution_count": 0,
      "outputs": [
        {
          "output_type": "execute_result",
          "data": {
            "text/plain": [
              "Text(0.5, 0, 'Epochs')"
            ]
          },
          "metadata": {
            "tags": []
          },
          "execution_count": 33
        },
        {
          "output_type": "display_data",
          "data": {
            "image/png": "[encoded data removed]",
            "text/plain": [
              "<Figure size 432x288 with 1 Axes>"
            ]
          },
          "metadata": {
            "tags": [],
            "needs_background": "light"
          }
        }
      ]
    },
    {
      "cell_type": "code",
      "metadata": {
        "id": "pLUXGzGvslrR",
        "colab_type": "code",
        "outputId": "707a3dda-cd47-4f64-9cd9-7d27dec5ffdc",
        "colab": {
          "base_uri": "https://localhost:8080/",
          "height": 296
        }
      },
      "source": [
        "plt.plot(accuracy_train)\n",
        "plt.ylabel(\"Training Accuracy\")\n",
        "plt.xlabel(\"Epochs\")"
      ],
      "execution_count": 0,
      "outputs": [
        {
          "output_type": "execute_result",
          "data": {
            "text/plain": [
              "Text(0.5, 0, 'Epochs')"
            ]
          },
          "metadata": {
            "tags": []
          },
          "execution_count": 34
        },
        {
          "output_type": "display_data",
          "data": {
            "image/png": "[encoded data removed]",
            "text/plain": [
              "<Figure size 432x288 with 1 Axes>"
            ]
          },
          "metadata": {
            "tags": [],
            "needs_background": "light"
          }
        }
      ]
    },
    {
      "cell_type": "code",
      "metadata": {
        "id": "2-n9DGyvsqEM",
        "colab_type": "code",
        "outputId": "6e77f17a-c9f4-4615-9571-7178f0a038d0",
        "colab": {
          "base_uri": "https://localhost:8080/",
          "height": 296
        }
      },
      "source": [
        "plt.plot(accuracy_valid)\n",
        "plt.ylabel(\"Validation Accuracy\")\n",
        "plt.xlabel(\"Epochs\")"
      ],
      "execution_count": 0,
      "outputs": [
        {
          "output_type": "execute_result",
          "data": {
            "text/plain": [
              "Text(0.5, 0, 'Epochs')"
            ]
          },
          "metadata": {
            "tags": []
          },
          "execution_count": 35
        },
        {
          "output_type": "display_data",
          "data": {
            "image/png": "[encoded data removed]",
            "text/plain": [
              "<Figure size 432x288 with 1 Axes>"
            ]
          },
          "metadata": {
            "tags": [],
            "needs_background": "light"
          }
        }
      ]
    },
    {
      "cell_type": "code",
      "metadata": {
        "id": "86ACyYtotc30",
        "colab_type": "code",
        "colab": {
          "base_uri": "https://localhost:8080/",
          "height": 364
        },
        "outputId": "41c64f60-876a-4c76-85e7-ff29a74f89e9"
      },
      "source": [
        "model_dir = \"/content/drive/My Drive/model_pytorch/assignment_5b/\"\n",
        "res18 = torch.load(model_dir+\"res18_with_focal.pth\")\n",
        "# nb_classes = 2\n",
        "device = torch.device(\"cuda:0\" if torch.cuda.is_available() else \"cpu\")\n",
        "labels_model = np.empty((0,3), int)\n",
        "labels_true = np.empty((0,3), int)\n",
        "\n",
        "with torch.no_grad():\n",
        "    for i, (inputs, labels) in enumerate(testloader):\n",
        "        print (i)\n",
        "        inputs = inputs.to(device)\n",
        "        labels = labels.to(device)\n",
        "        \n",
        "        labels = make_multiple_hot(labels)\n",
        "\n",
        "        outputs = res18(inputs)\n",
        "        scores = sigmoid(outputs)\n",
        "        # print (scores)\n",
        "        labels_mod = np.apply_along_axis(threshold, 1, scores.detach().cpu().numpy())\n",
        "\n",
        "        labels_true = np.append(labels_true,labels,axis=0)\n",
        "        labels_model = np.append(labels_model,labels_mod,axis=0)\n",
        "        # print (labels_model.shape)\n",
        "\n",
        "\n",
        "\n",
        "\n",
        "print(multilabel_confusion_matrix(labels_true,labels_model))"
      ],
      "execution_count": 19,
      "outputs": [
        {
          "output_type": "stream",
          "text": [
            "0\n"
          ],
          "name": "stdout"
        },
        {
          "output_type": "stream",
          "text": [
            "/usr/local/lib/python3.6/dist-packages/torch/nn/functional.py:1569: UserWarning: nn.functional.sigmoid is deprecated. Use torch.sigmoid instead.\n",
            "  warnings.warn(\"nn.functional.sigmoid is deprecated. Use torch.sigmoid instead.\")\n"
          ],
          "name": "stderr"
        },
        {
          "output_type": "stream",
          "text": [
            "1\n",
            "2\n",
            "3\n",
            "4\n",
            "5\n",
            "6\n",
            "7\n",
            "8\n",
            "9\n",
            "[[[592   8]\n",
            "  [ 24   4]]\n",
            "\n",
            " [[196  32]\n",
            "  [ 46 354]]\n",
            "\n",
            " [[355  45]\n",
            "  [ 32 196]]]\n"
          ],
          "name": "stdout"
        }
      ]
    },
    {
      "cell_type": "markdown",
      "metadata": {
        "id": "DFtTWmTBhK4s",
        "colab_type": "text"
      },
      "source": [
        "### Predictions on Test set"
      ]
    },
    {
      "cell_type": "code",
      "metadata": {
        "id": "MER2mp_ehN26",
        "colab_type": "code",
        "colab": {}
      },
      "source": [
        "model_dir = \"/content/drive/My Drive/model_pytorch/assignment_5b/\"\n",
        "res18 = torch.load(model_dir+\"res18_without_focal.pth\")\n",
        "# nb_classes = 2\n",
        "device = torch.device(\"cuda:0\" if torch.cuda.is_available() else \"cpu\")\n",
        "labels_model = np.empty((0,3), int)\n",
        "paths = []\n",
        "with torch.no_grad():\n",
        "    for i, (inputs, labels,path) in enumerate(testingloader):\n",
        "        print (i)\n",
        "        inputs = inputs.to(device)\n",
        "\n",
        "        outputs = res18(inputs)\n",
        "        scores = sigmoid(outputs)\n",
        "        print (path)\n",
        "        paths.append(path)\n",
        "        labels_mod = np.apply_along_axis(threshold, 1, scores.detach().cpu().numpy())\n",
        "\n",
        "        labels_model = np.append(labels_model,labels_mod,axis=0)\n",
        "        # print (labels_model.shape)\n",
        "\n",
        "\n",
        "\n",
        "\n",
        "# print(multilabel_confusion_matrix(labels_true,labels_model))"
      ],
      "execution_count": 0,
      "outputs": []
    },
    {
      "cell_type": "code",
      "metadata": {
        "id": "sekwreuzi4PJ",
        "colab_type": "code",
        "colab": {}
      },
      "source": [
        "flat_list = [item for sublist in paths for item in sublist]"
      ],
      "execution_count": 0,
      "outputs": []
    },
    {
      "cell_type": "code",
      "metadata": {
        "id": "5VoJZPwbjiUT",
        "colab_type": "code",
        "colab": {}
      },
      "source": [
        "images_names = []\n",
        "for name_image in flat_list:\n",
        "  images_names.append(name_image.split('/')[-1])"
      ],
      "execution_count": 0,
      "outputs": []
    },
    {
      "cell_type": "code",
      "metadata": {
        "id": "IDM6F9amj9Hy",
        "colab_type": "code",
        "colab": {}
      },
      "source": [
        "results = pd.DataFrame({'name':images_names,'covid':labels_model[:,0],'pneumonia':labels_model[:,2],'normal':labels_model[:,1]})"
      ],
      "execution_count": 0,
      "outputs": []
    },
    {
      "cell_type": "code",
      "metadata": {
        "id": "85iG7S5Xk7NI",
        "colab_type": "code",
        "colab": {}
      },
      "source": [
        "results.to_csv(\"/content/drive/My Drive/model_pytorch/assignment_5b/results.csv\")"
      ],
      "execution_count": 0,
      "outputs": []
    }
  ]
}